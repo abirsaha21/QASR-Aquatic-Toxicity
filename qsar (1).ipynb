{
 "cells": [
  {
   "cell_type": "code",
   "execution_count": 1,
   "metadata": {
    "_cell_guid": "b1076dfc-b9ad-4769-8c92-a6c4dae69d19",
    "_uuid": "8f2839f25d086af736a60e9eeb907d3b93b6e0e5",
    "execution": {
     "iopub.execute_input": "2023-04-10T16:57:45.338322Z",
     "iopub.status.busy": "2023-04-10T16:57:45.337870Z",
     "iopub.status.idle": "2023-04-10T16:57:46.615200Z",
     "shell.execute_reply": "2023-04-10T16:57:46.614066Z",
     "shell.execute_reply.started": "2023-04-10T16:57:45.338207Z"
    }
   },
   "outputs": [],
   "source": [
    "import numpy as np \n",
    "import pandas as pd \n",
    "import os\n",
    "import random\n",
    "import seaborn as sns\n",
    "import matplotlib.pyplot as plt\n",
    "for dirname, _, filenames in os.walk('/kaggle/input'):\n",
    "    for filename in filenames:\n",
    "        print(os.path.join(dirname, filename))"
   ]
  },
  {
   "cell_type": "code",
   "execution_count": 3,
   "metadata": {
    "execution": {
     "iopub.execute_input": "2023-04-10T16:57:46.617371Z",
     "iopub.status.busy": "2023-04-10T16:57:46.617001Z",
     "iopub.status.idle": "2023-04-10T16:57:46.661293Z",
     "shell.execute_reply": "2023-04-10T16:57:46.660308Z",
     "shell.execute_reply.started": "2023-04-10T16:57:46.617320Z"
    }
   },
   "outputs": [
    {
     "data": {
      "text/html": [
       "<div>\n",
       "<style scoped>\n",
       "    .dataframe tbody tr th:only-of-type {\n",
       "        vertical-align: middle;\n",
       "    }\n",
       "\n",
       "    .dataframe tbody tr th {\n",
       "        vertical-align: top;\n",
       "    }\n",
       "\n",
       "    .dataframe thead th {\n",
       "        text-align: right;\n",
       "    }\n",
       "</style>\n",
       "<table border=\"1\" class=\"dataframe\">\n",
       "  <thead>\n",
       "    <tr style=\"text-align: right;\">\n",
       "      <th></th>\n",
       "      <th>0</th>\n",
       "      <th>1</th>\n",
       "      <th>2</th>\n",
       "      <th>3</th>\n",
       "      <th>4</th>\n",
       "      <th>5</th>\n",
       "      <th>6</th>\n",
       "    </tr>\n",
       "  </thead>\n",
       "  <tbody>\n",
       "    <tr>\n",
       "      <th>0</th>\n",
       "      <td>3.260</td>\n",
       "      <td>0.829</td>\n",
       "      <td>1.676</td>\n",
       "      <td>0</td>\n",
       "      <td>1</td>\n",
       "      <td>1.453</td>\n",
       "      <td>3.770</td>\n",
       "    </tr>\n",
       "    <tr>\n",
       "      <th>1</th>\n",
       "      <td>2.189</td>\n",
       "      <td>0.580</td>\n",
       "      <td>0.863</td>\n",
       "      <td>0</td>\n",
       "      <td>0</td>\n",
       "      <td>1.348</td>\n",
       "      <td>3.115</td>\n",
       "    </tr>\n",
       "    <tr>\n",
       "      <th>2</th>\n",
       "      <td>2.125</td>\n",
       "      <td>0.638</td>\n",
       "      <td>0.831</td>\n",
       "      <td>0</td>\n",
       "      <td>0</td>\n",
       "      <td>1.348</td>\n",
       "      <td>3.531</td>\n",
       "    </tr>\n",
       "    <tr>\n",
       "      <th>3</th>\n",
       "      <td>3.027</td>\n",
       "      <td>0.331</td>\n",
       "      <td>1.472</td>\n",
       "      <td>1</td>\n",
       "      <td>0</td>\n",
       "      <td>1.807</td>\n",
       "      <td>3.510</td>\n",
       "    </tr>\n",
       "    <tr>\n",
       "      <th>4</th>\n",
       "      <td>2.094</td>\n",
       "      <td>0.827</td>\n",
       "      <td>0.860</td>\n",
       "      <td>0</td>\n",
       "      <td>0</td>\n",
       "      <td>1.886</td>\n",
       "      <td>5.390</td>\n",
       "    </tr>\n",
       "  </tbody>\n",
       "</table>\n",
       "</div>"
      ],
      "text/plain": [
       "       0      1      2  3  4      5      6\n",
       "0  3.260  0.829  1.676  0  1  1.453  3.770\n",
       "1  2.189  0.580  0.863  0  0  1.348  3.115\n",
       "2  2.125  0.638  0.831  0  0  1.348  3.531\n",
       "3  3.027  0.331  1.472  1  0  1.807  3.510\n",
       "4  2.094  0.827  0.860  0  0  1.886  5.390"
      ]
     },
     "execution_count": 3,
     "metadata": {},
     "output_type": "execute_result"
    }
   ],
   "source": [
    "df = pd.read_csv(\"qsar_fish_toxicity.csv\",header=None,delimiter=';')\n",
    "df.head()"
   ]
  },
  {
   "cell_type": "code",
   "execution_count": 4,
   "metadata": {
    "execution": {
     "iopub.execute_input": "2023-04-10T16:57:46.663161Z",
     "iopub.status.busy": "2023-04-10T16:57:46.662801Z",
     "iopub.status.idle": "2023-04-10T16:57:46.691138Z",
     "shell.execute_reply": "2023-04-10T16:57:46.689725Z",
     "shell.execute_reply.started": "2023-04-10T16:57:46.663104Z"
    }
   },
   "outputs": [
    {
     "data": {
      "text/html": [
       "<div>\n",
       "<style scoped>\n",
       "    .dataframe tbody tr th:only-of-type {\n",
       "        vertical-align: middle;\n",
       "    }\n",
       "\n",
       "    .dataframe tbody tr th {\n",
       "        vertical-align: top;\n",
       "    }\n",
       "\n",
       "    .dataframe thead th {\n",
       "        text-align: right;\n",
       "    }\n",
       "</style>\n",
       "<table border=\"1\" class=\"dataframe\">\n",
       "  <thead>\n",
       "    <tr style=\"text-align: right;\">\n",
       "      <th></th>\n",
       "      <th>CIC0</th>\n",
       "      <th>SM1_Dz(Z)</th>\n",
       "      <th>GATS1i</th>\n",
       "      <th>NdsCH</th>\n",
       "      <th>NdssC</th>\n",
       "      <th>MLOGP</th>\n",
       "      <th>quantitative response, LC50 [-LOG(mol/L)]</th>\n",
       "    </tr>\n",
       "  </thead>\n",
       "  <tbody>\n",
       "    <tr>\n",
       "      <th>0</th>\n",
       "      <td>3.260</td>\n",
       "      <td>0.829</td>\n",
       "      <td>1.676</td>\n",
       "      <td>0</td>\n",
       "      <td>1</td>\n",
       "      <td>1.453</td>\n",
       "      <td>3.770</td>\n",
       "    </tr>\n",
       "    <tr>\n",
       "      <th>1</th>\n",
       "      <td>2.189</td>\n",
       "      <td>0.580</td>\n",
       "      <td>0.863</td>\n",
       "      <td>0</td>\n",
       "      <td>0</td>\n",
       "      <td>1.348</td>\n",
       "      <td>3.115</td>\n",
       "    </tr>\n",
       "    <tr>\n",
       "      <th>2</th>\n",
       "      <td>2.125</td>\n",
       "      <td>0.638</td>\n",
       "      <td>0.831</td>\n",
       "      <td>0</td>\n",
       "      <td>0</td>\n",
       "      <td>1.348</td>\n",
       "      <td>3.531</td>\n",
       "    </tr>\n",
       "    <tr>\n",
       "      <th>3</th>\n",
       "      <td>3.027</td>\n",
       "      <td>0.331</td>\n",
       "      <td>1.472</td>\n",
       "      <td>1</td>\n",
       "      <td>0</td>\n",
       "      <td>1.807</td>\n",
       "      <td>3.510</td>\n",
       "    </tr>\n",
       "    <tr>\n",
       "      <th>4</th>\n",
       "      <td>2.094</td>\n",
       "      <td>0.827</td>\n",
       "      <td>0.860</td>\n",
       "      <td>0</td>\n",
       "      <td>0</td>\n",
       "      <td>1.886</td>\n",
       "      <td>5.390</td>\n",
       "    </tr>\n",
       "  </tbody>\n",
       "</table>\n",
       "</div>"
      ],
      "text/plain": [
       "    CIC0  SM1_Dz(Z)  GATS1i  NdsCH  NdssC  MLOGP  \\\n",
       "0  3.260      0.829   1.676      0      1  1.453   \n",
       "1  2.189      0.580   0.863      0      0  1.348   \n",
       "2  2.125      0.638   0.831      0      0  1.348   \n",
       "3  3.027      0.331   1.472      1      0  1.807   \n",
       "4  2.094      0.827   0.860      0      0  1.886   \n",
       "\n",
       "   quantitative response, LC50 [-LOG(mol/L)]  \n",
       "0                                      3.770  \n",
       "1                                      3.115  \n",
       "2                                      3.531  \n",
       "3                                      3.510  \n",
       "4                                      5.390  "
      ]
     },
     "execution_count": 4,
     "metadata": {},
     "output_type": "execute_result"
    }
   ],
   "source": [
    "df.rename({0: 'CIC0', 1: 'SM1_Dz(Z)',2:'GATS1i',3:'NdsCH',4:'NdssC',5:'MLOGP',6:'quantitative response, LC50 [-LOG(mol/L)]'}, axis=1, inplace=True)\n",
    "df.head()"
   ]
  },
  {
   "cell_type": "code",
   "execution_count": 5,
   "metadata": {
    "execution": {
     "iopub.execute_input": "2023-04-10T16:57:46.693091Z",
     "iopub.status.busy": "2023-04-10T16:57:46.692673Z",
     "iopub.status.idle": "2023-04-10T16:57:46.723062Z",
     "shell.execute_reply": "2023-04-10T16:57:46.722238Z",
     "shell.execute_reply.started": "2023-04-10T16:57:46.693045Z"
    }
   },
   "outputs": [
    {
     "name": "stdout",
     "output_type": "stream",
     "text": [
      "<class 'pandas.core.frame.DataFrame'>\n",
      "RangeIndex: 908 entries, 0 to 907\n",
      "Data columns (total 7 columns):\n",
      " #   Column                                     Non-Null Count  Dtype  \n",
      "---  ------                                     --------------  -----  \n",
      " 0   CIC0                                       908 non-null    float64\n",
      " 1   SM1_Dz(Z)                                  908 non-null    float64\n",
      " 2   GATS1i                                     908 non-null    float64\n",
      " 3   NdsCH                                      908 non-null    int64  \n",
      " 4   NdssC                                      908 non-null    int64  \n",
      " 5   MLOGP                                      908 non-null    float64\n",
      " 6   quantitative response, LC50 [-LOG(mol/L)]  908 non-null    float64\n",
      "dtypes: float64(5), int64(2)\n",
      "memory usage: 49.8 KB\n"
     ]
    }
   ],
   "source": [
    "df.info()"
   ]
  },
  {
   "cell_type": "code",
   "execution_count": 6,
   "metadata": {
    "execution": {
     "iopub.execute_input": "2023-04-10T16:57:46.726111Z",
     "iopub.status.busy": "2023-04-10T16:57:46.725703Z",
     "iopub.status.idle": "2023-04-10T16:57:46.743940Z",
     "shell.execute_reply": "2023-04-10T16:57:46.742833Z",
     "shell.execute_reply.started": "2023-04-10T16:57:46.726062Z"
    }
   },
   "outputs": [
    {
     "name": "stdout",
     "output_type": "stream",
     "text": [
      "NdsCH\n",
      "0    760\n",
      "1    107\n",
      "2     29\n",
      "4      7\n",
      "3      5\n",
      "Name: NdsCH, dtype: int64\n",
      "============================\n",
      "NdssC\n",
      "0    622\n",
      "1    176\n",
      "2     81\n",
      "3     18\n",
      "4      8\n",
      "6      2\n",
      "5      1\n",
      "Name: NdssC, dtype: int64\n",
      "============================\n"
     ]
    }
   ],
   "source": [
    "for i in df.columns:\n",
    "    if(len(df[i].unique()) < 10):\n",
    "        print(i)\n",
    "        print(df[i].value_counts())\n",
    "        print(\"============================\")"
   ]
  },
  {
   "cell_type": "code",
   "execution_count": 7,
   "metadata": {
    "execution": {
     "iopub.execute_input": "2023-04-10T16:57:46.746420Z",
     "iopub.status.busy": "2023-04-10T16:57:46.745849Z",
     "iopub.status.idle": "2023-04-10T16:57:46.756784Z",
     "shell.execute_reply": "2023-04-10T16:57:46.755823Z",
     "shell.execute_reply.started": "2023-04-10T16:57:46.746376Z"
    }
   },
   "outputs": [
    {
     "data": {
      "text/plain": [
       "CIC0                                         0\n",
       "SM1_Dz(Z)                                    0\n",
       "GATS1i                                       0\n",
       "NdsCH                                        0\n",
       "NdssC                                        0\n",
       "MLOGP                                        0\n",
       "quantitative response, LC50 [-LOG(mol/L)]    0\n",
       "dtype: int64"
      ]
     },
     "execution_count": 7,
     "metadata": {},
     "output_type": "execute_result"
    }
   ],
   "source": [
    "df.isnull().sum()"
   ]
  },
  {
   "cell_type": "code",
   "execution_count": 8,
   "metadata": {
    "execution": {
     "iopub.execute_input": "2023-04-10T16:57:46.758202Z",
     "iopub.status.busy": "2023-04-10T16:57:46.757929Z",
     "iopub.status.idle": "2023-04-10T16:57:47.970576Z",
     "shell.execute_reply": "2023-04-10T16:57:47.969426Z",
     "shell.execute_reply.started": "2023-04-10T16:57:46.758171Z"
    }
   },
   "outputs": [
    {
     "data": {
      "image/png": "[encoded data removed]",
      "text/plain": [
       "<Figure size 720x720 with 6 Axes>"
      ]
     },
     "metadata": {
      "needs_background": "light"
     },
     "output_type": "display_data"
    }
   ],
   "source": [
    "useful_cols = [col for col in df.columns if col not in ['quantitative response, LC50 [-LOG(mol/L)]']]         # TARGET AND ID\n",
    "cols_dist = [col for col in useful_cols if col not in ['NdssC', 'NdsCH']]  # CATEGORICAL DATA\n",
    "color_ = [ '#9D2417', '#AF41B4', '#003389' ,'#3C5F41',  '#967032', '#2734DE'] \n",
    "cmap_ = ['magma', 'copper', 'crest']\n",
    "\n",
    "\n",
    "plt.figure(figsize= (10,10))\n",
    "for i,col in enumerate(df[useful_cols].columns):\n",
    "    rand_col = color_[random.sample(range(6), 1)[0]]\n",
    "    plt.subplot(2,3, i+1) # SUBPLOTS\n",
    "    if col in cols_dist:\n",
    "        \n",
    "        sns.kdeplot(df[col], color = rand_col, fill = rand_col )\n",
    "        plt.title(col,weight = 'bold', color = rand_col)\n",
    "        plt.ylabel(\" \")\n",
    "        plt.xlabel(\" \")\n",
    "        plt.tight_layout()\n",
    "    else:\n",
    "        sns.countplot(data = df , x = col, palette = cmap_[random.sample(range(3), 1)[0]] )\n",
    "        plt.title(col,weight = 'bold', color = 'black')\n",
    "        plt.ylabel(\" \")\n",
    "        plt.xlabel(\" \")\n",
    "        plt.tight_layout()\n",
    "        \n",
    "#sns.kdeplot(np.log(df['instrumentalness']), color = rand_col, fill = rand_col )\n",
    "#plt.tight_layout()\n",
    "plt.show();"
   ]
  },
  {
   "cell_type": "code",
   "execution_count": 9,
   "metadata": {
    "execution": {
     "iopub.execute_input": "2023-04-10T16:57:47.972464Z",
     "iopub.status.busy": "2023-04-10T16:57:47.972066Z",
     "iopub.status.idle": "2023-04-10T16:57:48.243033Z",
     "shell.execute_reply": "2023-04-10T16:57:48.242056Z",
     "shell.execute_reply.started": "2023-04-10T16:57:47.972405Z"
    }
   },
   "outputs": [
    {
     "name": "stderr",
     "output_type": "stream",
     "text": [
      "C:\\Users\\Raunak Kumar\\anaconda3\\lib\\site-packages\\pandas\\core\\arraylike.py:364: RuntimeWarning: divide by zero encountered in log\n",
      "  result = getattr(ufunc, method)(*inputs, **kwargs)\n"
     ]
    },
    {
     "data": {
      "text/plain": [
       "<AxesSubplot:xlabel='SM1_Dz(Z)', ylabel='Density'>"
      ]
     },
     "execution_count": 9,
     "metadata": {},
     "output_type": "execute_result"
    },
    {
     "data": {
      "image/png": "[encoded data removed]",
      "text/plain": [
       "<Figure size 432x288 with 1 Axes>"
      ]
     },
     "metadata": {
      "needs_background": "light"
     },
     "output_type": "display_data"
    }
   ],
   "source": [
    "sns.kdeplot(np.log(df['SM1_Dz(Z)']), color = rand_col, fill = rand_col )"
   ]
  },
  {
   "cell_type": "code",
   "execution_count": 10,
   "metadata": {
    "execution": {
     "iopub.execute_input": "2023-04-10T16:57:48.244621Z",
     "iopub.status.busy": "2023-04-10T16:57:48.244349Z",
     "iopub.status.idle": "2023-04-10T16:57:48.456195Z",
     "shell.execute_reply": "2023-04-10T16:57:48.453882Z",
     "shell.execute_reply.started": "2023-04-10T16:57:48.244590Z"
    }
   },
   "outputs": [
    {
     "data": {
      "text/plain": [
       "<AxesSubplot:xlabel='GATS1i', ylabel='Density'>"
      ]
     },
     "execution_count": 10,
     "metadata": {},
     "output_type": "execute_result"
    },
    {
     "data": {
      "image/png": "[encoded data removed]",
      "text/plain": [
       "<Figure size 432x288 with 1 Axes>"
      ]
     },
     "metadata": {
      "needs_background": "light"
     },
     "output_type": "display_data"
    }
   ],
   "source": [
    "sns.kdeplot(np.log(df['GATS1i']), color = rand_col, fill = rand_col )"
   ]
  },
  {
   "cell_type": "code",
   "execution_count": 11,
   "metadata": {
    "execution": {
     "iopub.execute_input": "2023-04-10T16:57:48.458263Z",
     "iopub.status.busy": "2023-04-10T16:57:48.457804Z",
     "iopub.status.idle": "2023-04-10T16:57:48.902484Z",
     "shell.execute_reply": "2023-04-10T16:57:48.901439Z",
     "shell.execute_reply.started": "2023-04-10T16:57:48.458212Z"
    }
   },
   "outputs": [
    {
     "data": {
      "image/png": "[encoded data removed]",
      "text/plain": [
       "<Figure size 864x864 with 2 Axes>"
      ]
     },
     "metadata": {
      "needs_background": "light"
     },
     "output_type": "display_data"
    }
   ],
   "source": [
    "plt.figure(figsize = (12,12))\n",
    "corr_matrix=df.corr()\n",
    " \n",
    "matrix = np.tril(corr_matrix) # take lower correlation matrix\n",
    "\n",
    "# Draw the heatmap with the mask\n",
    "sns.heatmap(corr_matrix.T, mask=matrix, square=True, cmap = 'RdBu')\n",
    "plt.xticks(size = 15,color = 'red')\n",
    "plt.yticks(size = 15,  color = 'red');"
   ]
  },
  {
   "cell_type": "code",
   "execution_count": 12,
   "metadata": {
    "execution": {
     "iopub.execute_input": "2023-04-10T16:57:48.903903Z",
     "iopub.status.busy": "2023-04-10T16:57:48.903676Z",
     "iopub.status.idle": "2023-04-10T16:57:49.136990Z",
     "shell.execute_reply": "2023-04-10T16:57:49.135818Z",
     "shell.execute_reply.started": "2023-04-10T16:57:48.903875Z"
    }
   },
   "outputs": [],
   "source": [
    "from sklearn.model_selection import train_test_split\n",
    "\n",
    "X_train,X_test,y_train,y_test = train_test_split(df.drop(columns=['quantitative response, LC50 [-LOG(mol/L)]']),\n",
    "                                                 df['quantitative response, LC50 [-LOG(mol/L)]'],\n",
    "                                                 test_size=0.2,\n",
    "                                                random_state=20)"
   ]
  },
  {
   "cell_type": "code",
   "execution_count": 13,
   "metadata": {
    "execution": {
     "iopub.execute_input": "2023-04-10T16:57:49.138859Z",
     "iopub.status.busy": "2023-04-10T16:57:49.138485Z",
     "iopub.status.idle": "2023-04-10T16:57:49.153919Z",
     "shell.execute_reply": "2023-04-10T16:57:49.152760Z",
     "shell.execute_reply.started": "2023-04-10T16:57:49.138813Z"
    }
   },
   "outputs": [],
   "source": [
    "from sklearn.model_selection import train_test_split\n",
    "from sklearn.compose import ColumnTransformer\n",
    "from sklearn.preprocessing import OneHotEncoder\n",
    "from sklearn.pipeline import Pipeline,make_pipeline"
   ]
  },
  {
   "cell_type": "code",
   "execution_count": 14,
   "metadata": {
    "execution": {
     "iopub.execute_input": "2023-04-10T16:57:49.157385Z",
     "iopub.status.busy": "2023-04-10T16:57:49.156009Z",
     "iopub.status.idle": "2023-04-10T16:57:49.162861Z",
     "shell.execute_reply": "2023-04-10T16:57:49.162191Z",
     "shell.execute_reply.started": "2023-04-10T16:57:49.157308Z"
    }
   },
   "outputs": [],
   "source": [
    "trf1  = ColumnTransformer([\n",
    "    ('ohe_sex_embarked',OneHotEncoder(sparse=False,handle_unknown='ignore'),[3,4])\n",
    "],remainder='passthrough')"
   ]
  },
  {
   "cell_type": "code",
   "execution_count": 15,
   "metadata": {
    "execution": {
     "iopub.execute_input": "2023-04-10T16:57:49.167134Z",
     "iopub.status.busy": "2023-04-10T16:57:49.166703Z",
     "iopub.status.idle": "2023-04-10T16:57:49.506243Z",
     "shell.execute_reply": "2023-04-10T16:57:49.505212Z",
     "shell.execute_reply.started": "2023-04-10T16:57:49.167099Z"
    }
   },
   "outputs": [],
   "source": [
    "# train the model      algo1\n",
    "from sklearn.tree import DecisionTreeRegressor \n",
    "\n",
    "trf2 = DecisionTreeRegressor()"
   ]
  },
  {
   "cell_type": "code",
   "execution_count": 16,
   "metadata": {
    "execution": {
     "iopub.execute_input": "2023-04-10T16:57:49.507917Z",
     "iopub.status.busy": "2023-04-10T16:57:49.507637Z",
     "iopub.status.idle": "2023-04-10T16:57:49.512977Z",
     "shell.execute_reply": "2023-04-10T16:57:49.511873Z",
     "shell.execute_reply.started": "2023-04-10T16:57:49.507886Z"
    }
   },
   "outputs": [],
   "source": [
    "pipe = Pipeline([\n",
    "    ('trf1',trf1),\n",
    "    ('trf2',trf2)\n",
    "])"
   ]
  },
  {
   "cell_type": "code",
   "execution_count": 17,
   "metadata": {
    "execution": {
     "iopub.execute_input": "2023-04-10T16:57:49.514727Z",
     "iopub.status.busy": "2023-04-10T16:57:49.514337Z",
     "iopub.status.idle": "2023-04-10T16:57:49.553541Z",
     "shell.execute_reply": "2023-04-10T16:57:49.552449Z",
     "shell.execute_reply.started": "2023-04-10T16:57:49.514690Z"
    }
   },
   "outputs": [
    {
     "data": {
      "text/plain": [
       "Pipeline(steps=[('trf1',\n",
       "                 ColumnTransformer(remainder='passthrough',\n",
       "                                   transformers=[('ohe_sex_embarked',\n",
       "                                                  OneHotEncoder(handle_unknown='ignore',\n",
       "                                                                sparse=False),\n",
       "                                                  [3, 4])])),\n",
       "                ('trf2', DecisionTreeRegressor())])"
      ]
     },
     "execution_count": 17,
     "metadata": {},
     "output_type": "execute_result"
    }
   ],
   "source": [
    "pipe.fit(X_train,y_train)"
   ]
  },
  {
   "cell_type": "code",
   "execution_count": 18,
   "metadata": {
    "execution": {
     "iopub.execute_input": "2023-04-10T16:57:49.554877Z",
     "iopub.status.busy": "2023-04-10T16:57:49.554652Z",
     "iopub.status.idle": "2023-04-10T16:57:49.564217Z",
     "shell.execute_reply": "2023-04-10T16:57:49.563289Z",
     "shell.execute_reply.started": "2023-04-10T16:57:49.554849Z"
    }
   },
   "outputs": [
    {
     "data": {
      "text/plain": [
       "{'trf1': ColumnTransformer(remainder='passthrough',\n",
       "                   transformers=[('ohe_sex_embarked',\n",
       "                                  OneHotEncoder(handle_unknown='ignore',\n",
       "                                                sparse=False),\n",
       "                                  [3, 4])]),\n",
       " 'trf2': DecisionTreeRegressor()}"
      ]
     },
     "execution_count": 18,
     "metadata": {},
     "output_type": "execute_result"
    }
   ],
   "source": [
    "pipe.named_steps"
   ]
  },
  {
   "cell_type": "code",
   "execution_count": 19,
   "metadata": {
    "execution": {
     "iopub.execute_input": "2023-04-10T16:57:49.565774Z",
     "iopub.status.busy": "2023-04-10T16:57:49.565524Z",
     "iopub.status.idle": "2023-04-10T16:57:49.576218Z",
     "shell.execute_reply": "2023-04-10T16:57:49.575070Z",
     "shell.execute_reply.started": "2023-04-10T16:57:49.565736Z"
    }
   },
   "outputs": [],
   "source": [
    "from sklearn import set_config\n",
    "set_config(display='diagram')"
   ]
  },
  {
   "cell_type": "code",
   "execution_count": 20,
   "metadata": {
    "execution": {
     "iopub.execute_input": "2023-04-10T16:57:49.578187Z",
     "iopub.status.busy": "2023-04-10T16:57:49.577869Z",
     "iopub.status.idle": "2023-04-10T16:57:49.591399Z",
     "shell.execute_reply": "2023-04-10T16:57:49.590530Z",
     "shell.execute_reply.started": "2023-04-10T16:57:49.578152Z"
    }
   },
   "outputs": [
    {
     "data": {
      "text/plain": [
       "(182,)"
      ]
     },
     "execution_count": 20,
     "metadata": {},
     "output_type": "execute_result"
    }
   ],
   "source": [
    "y_test.shape"
   ]
  },
  {
   "cell_type": "code",
   "execution_count": 21,
   "metadata": {
    "execution": {
     "iopub.execute_input": "2023-04-10T16:57:49.593285Z",
     "iopub.status.busy": "2023-04-10T16:57:49.593039Z",
     "iopub.status.idle": "2023-04-10T16:57:49.608292Z",
     "shell.execute_reply": "2023-04-10T16:57:49.607596Z",
     "shell.execute_reply.started": "2023-04-10T16:57:49.593247Z"
    }
   },
   "outputs": [
    {
     "data": {
      "text/plain": [
       "(182,)"
      ]
     },
     "execution_count": 21,
     "metadata": {},
     "output_type": "execute_result"
    }
   ],
   "source": [
    "y_pred = pipe.predict(X_test)\n",
    "y_pred.shape"
   ]
  },
  {
   "cell_type": "code",
   "execution_count": 22,
   "metadata": {
    "execution": {
     "iopub.execute_input": "2023-04-10T16:57:49.610125Z",
     "iopub.status.busy": "2023-04-10T16:57:49.609851Z",
     "iopub.status.idle": "2023-04-10T16:57:49.622967Z",
     "shell.execute_reply": "2023-04-10T16:57:49.622229Z",
     "shell.execute_reply.started": "2023-04-10T16:57:49.610087Z"
    }
   },
   "outputs": [
    {
     "data": {
      "text/plain": [
       "1.5858575138400488"
      ]
     },
     "execution_count": 22,
     "metadata": {},
     "output_type": "execute_result"
    }
   ],
   "source": [
    "from sklearn.metrics import mean_squared_error\n",
    "mean_squared_error(y_test,y_pred)"
   ]
  },
  {
   "cell_type": "code",
   "execution_count": 23,
   "metadata": {
    "execution": {
     "iopub.execute_input": "2023-04-10T16:57:49.624727Z",
     "iopub.status.busy": "2023-04-10T16:57:49.624466Z",
     "iopub.status.idle": "2023-04-10T16:57:51.401166Z",
     "shell.execute_reply": "2023-04-10T16:57:51.399996Z",
     "shell.execute_reply.started": "2023-04-10T16:57:49.624685Z"
    }
   },
   "outputs": [
    {
     "data": {
      "image/png": "[encoded data removed]",
      "text/plain": [
       "<Figure size 432x288 with 1 Axes>"
      ]
     },
     "metadata": {
      "needs_background": "light"
     },
     "output_type": "display_data"
    }
   ],
   "source": [
    "# plot of the increase of mean absolute error with prediction error\n",
    "from matplotlib import pyplot\n",
    "from sklearn.metrics import mean_squared_error\n",
    "# real value\n",
    "expected = list(y_test)\n",
    "# predicted value\n",
    "predicted = list(y_pred)\n",
    "# calculate errors\n",
    "errors = list()\n",
    "for i in range(len(expected)):\n",
    "\t# calculate error\n",
    "\terr = abs((expected[i] - predicted[i]))\n",
    "\t# store error\n",
    "\terrors.append(err)\n",
    "\t# report error\n",
    "\t#print('>%.1f, %.1f = %.3f' % (expected[i], predicted[i], err))\n",
    "# plot errors\n",
    "pyplot.plot(errors)\n",
    "pyplot.xticks(ticks=[i for i in range(len(errors))], labels=predicted)\n",
    "pyplot.xlabel('Predicted Value')\n",
    "pyplot.ylabel('Mean Absolute Error')\n",
    "pyplot.show()"
   ]
  },
  {
   "cell_type": "code",
   "execution_count": 24,
   "metadata": {},
   "outputs": [],
   "source": [
    "from sklearn.pipeline import Pipeline\n",
    "from sklearn.preprocessing import StandardScaler\n",
    "from sklearn.decomposition import PCA\n",
    "from sklearn.linear_model import LinearRegression\n",
    "import sklearn.metrics as sm\n",
    "from sklearn.svm import SVR\n",
    "from sklearn.neighbors import KNeighborsRegressor"
   ]
  },
  {
   "cell_type": "code",
   "execution_count": 29,
   "metadata": {},
   "outputs": [
    {
     "name": "stdout",
     "output_type": "stream",
     "text": [
      "Accuracy score = 51.0 %\n"
     ]
    }
   ],
   "source": [
    "# Define the pipeline steps Algo2\n",
    "scaler = StandardScaler() # Standardize the features\n",
    "pca = PCA(n_components=3) # Reduce the dimensionality with PCA\n",
    "reg = LinearRegression() # Fit a linear regression model\n",
    "\n",
    "# Create the pipeline object\n",
    "pipe = Pipeline(steps=[(\"scaler\", scaler), (\"pca\", pca), (\"reg\", reg)])\n",
    "\n",
    "# Fit the pipeline on the training data\n",
    "pipe.fit(X_train, y_train)\n",
    "\n",
    "# Predict on the test data\n",
    "y_pred = pipe.predict(X_test)\n",
    "print(\"Accuracy score =\", round(sm.r2_score(y_test, y_pred), 2)*100,\"%\")"
   ]
  },
  {
   "cell_type": "code",
   "execution_count": 28,
   "metadata": {},
   "outputs": [
    {
     "name": "stdout",
     "output_type": "stream",
     "text": [
      "Accuracy score = 56.99999999999999 %\n"
     ]
    }
   ],
   "source": [
    "# Define the pipeline steps Algo3\n",
    "scaler = StandardScaler() # Standardize the features\n",
    "pca = PCA(n_components=3) # Reduce the dimensionality with PCA\n",
    "knn = KNeighborsRegressor(n_neighbors=5, metric=\"euclidean\") # Fit a KNN model\n",
    "\n",
    "# Create the pipeline object\n",
    "pipe = Pipeline(steps=[(\"scaler\", scaler), (\"pca\", pca), (\"knn\", knn)])\n",
    "\n",
    "# Fit the pipeline on the training data\n",
    "pipe.fit(X_train, y_train)\n",
    "\n",
    "# Predict on the test data\n",
    "y_pred = pipe.predict(X_test)\n",
    "print(\"Accuracy score =\", round(sm.r2_score(y_test, y_pred), 2)*100,\"%\")"
   ]
  },
  {
   "cell_type": "code",
   "execution_count": null,
   "metadata": {},
   "outputs": [],
   "source": []
  }
 ],
 "metadata": {
  "kernelspec": {
   "display_name": "Python 3 (ipykernel)",
   "language": "python",
   "name": "python3"
  },
  "language_info": {
   "codemirror_mode": {
    "name": "ipython",
    "version": 3
   },
   "file_extension": ".py",
   "mimetype": "text/x-python",
   "name": "python",
   "nbconvert_exporter": "python",
   "pygments_lexer": "ipython3",
   "version": "3.8.3"
  }
 },
 "nbformat": 4,
 "nbformat_minor": 4
}
